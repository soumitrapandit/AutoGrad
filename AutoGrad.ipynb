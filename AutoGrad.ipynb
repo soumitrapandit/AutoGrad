{
 "cells": [
  {
   "cell_type": "code",
   "execution_count": 3,
   "metadata": {},
   "outputs": [],
   "source": [
    "import numpy as np"
   ]
  },
  {
   "cell_type": "markdown",
   "metadata": {},
   "source": [
    "So the idea is that we have nodes and then we have the connections between them.\\\n",
    "And in other implementations, most notably pytorch, the node has been called \"Value\".\\\n",
    "This nomenclature was also adopted by Karpathy and DlSys but I don't see why we can't just call it \"Node\".\\\n",
    "Additionally, PyTorch is way too complicated and I just want a neat proof of concept.\\\n",
    "But the idea of having Operations as their own class is important.\\\n",
    "That will allow a neat partitioning between data and procedures (Not that it truly exists).\\\n",
    "Also, it seems neater to me."
   ]
  },
  {
   "cell_type": "code",
   "execution_count": null,
   "metadata": {},
   "outputs": [],
   "source": [
    "#A node is usually created by an operation\n",
    "#Or else, it is just bought into existance by definition\n",
    "#If the latter, then self.op = None\n",
    "#I'm taknig some inspiration from Lisp to Design my Op Class\n",
    "\n",
    "# class Op:\n",
    "#     def forward(self, values):\n",
    "#         raise NotImplementedError\n",
    "\n",
    "#     def backward(self, gradient):\n",
    "#         raise NotImplementedError\n",
    "    \n",
    "#     def __call__(self, *nodes):\n",
    "#         values = [node.data for node in nodes]\n",
    "#         res = self.forward(values)\n",
    "#         out = Node(\n",
    "#             val = res,\n",
    "#             parents = nodes,\n",
    "#             op = self\n",
    "#         )\n",
    "\n",
    "\n",
    "class add():\n",
    "    @staticmethod\n",
    "    def forward(self,a,b):\n",
    "        res = a.data + b.data\n",
    "        return Node(res)\n",
    "    \n",
    "    def backward(self, gradient):\n",
    "        pass\n",
    "\n",
    "    def __call__(self,a,b):\n",
    "        eelf.forward(a,b)\n",
    "\n",
    "\n",
    "\n",
    "class Node:\n",
    "    def __init__(\n",
    "                self, \n",
    "                val, \n",
    "                parents = None, \n",
    "                op = None\n",
    "                ):\n",
    "        \n",
    "        self.data = val\n",
    "        self.op = op\n",
    "        self.parents = parents\n",
    "    \n",
    "    def __add__(self,other):\n",
    "        res = self.data + other.data\n",
    "        return Node(res,\n",
    "                    parents = [self,other])\n",
    "    \n",
    "    def __mul__(self,other):\n",
    "        res = self.data * other.data\n",
    "        return Node(res,\n",
    "                    parents = [self,other])\n",
    "\n",
    "    def __repr__(self):\n",
    "        return f\"value is {self.data}\"\n",
    "\n",
    "\n",
    "#Actually, the way I want to desing the Op Class is so that it can take an arbitary number of nodes and perform the operation on them."
   ]
  },
  {
   "cell_type": "code",
   "execution_count": 42,
   "metadata": {},
   "outputs": [
    {
     "name": "stdout",
     "output_type": "stream",
     "text": [
      "value is 7\n"
     ]
    }
   ],
   "source": [
    "#Tests:\n",
    "x = Node(3)\n",
    "y = Node(4)\n",
    "z = x+y\n",
    "\n",
    "print(z)"
   ]
  },
  {
   "cell_type": "code",
   "execution_count": null,
   "metadata": {},
   "outputs": [],
   "source": []
  }
 ],
 "metadata": {
  "kernelspec": {
   "display_name": "torch",
   "language": "python",
   "name": "python3"
  },
  "language_info": {
   "codemirror_mode": {
    "name": "ipython",
    "version": 3
   },
   "file_extension": ".py",
   "mimetype": "text/x-python",
   "name": "python",
   "nbconvert_exporter": "python",
   "pygments_lexer": "ipython3",
   "version": "3.11.11"
  }
 },
 "nbformat": 4,
 "nbformat_minor": 2
}
